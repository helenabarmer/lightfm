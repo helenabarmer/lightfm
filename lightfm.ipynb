{
 "cells": [
  {
   "cell_type": "code",
   "execution_count": null,
   "metadata": {},
   "outputs": [],
   "source": [
    "pip install lightfm"
   ]
  },
  {
   "cell_type": "code",
   "execution_count": null,
   "metadata": {},
   "outputs": [],
   "source": [
    "import itertools\n",
    "import pandas as pd\n",
    "import numpy as np\n",
    "\n",
    "import lightfm\n",
    "from lightfm import LightFM\n",
    "from lightfm.data import Dataset\n",
    "from lightfm import cross_validation\n",
    "\n",
    "# Import LightFM's evaluation metrics\n",
    "from lightfm.evaluation import precision_at_k\n",
    "from lightfm.evaluation import auc_score\n",
    "\n",
    "import json\n",
    "import random\n",
    "\n",
    "print(\"LightFM version: {}\".format(lightfm.__version__))"
   ]
  },
  {
   "cell_type": "markdown",
   "metadata": {},
   "source": [
    "# Hike data\n",
    "Dataset with hike trails from the repo [Take A Hike - A Colorado Trail Recommender](https://github.com/oschow/take-a-hike)"
   ]
  },
  {
   "cell_type": "code",
   "execution_count": 30,
   "metadata": {},
   "outputs": [
    {
     "data": {
      "text/html": [
       "<div>\n",
       "<style scoped>\n",
       "    .dataframe tbody tr th:only-of-type {\n",
       "        vertical-align: middle;\n",
       "    }\n",
       "\n",
       "    .dataframe tbody tr th {\n",
       "        vertical-align: top;\n",
       "    }\n",
       "\n",
       "    .dataframe thead th {\n",
       "        text-align: right;\n",
       "    }\n",
       "</style>\n",
       "<table border=\"1\" class=\"dataframe\">\n",
       "  <thead>\n",
       "    <tr style=\"text-align: right;\">\n",
       "      <th></th>\n",
       "      <th>user</th>\n",
       "      <th>hike_id</th>\n",
       "      <th>rating</th>\n",
       "    </tr>\n",
       "  </thead>\n",
       "  <tbody>\n",
       "    <tr>\n",
       "      <th>0</th>\n",
       "      <td>1</td>\n",
       "      <td>43</td>\n",
       "      <td>1</td>\n",
       "    </tr>\n",
       "    <tr>\n",
       "      <th>1</th>\n",
       "      <td>1</td>\n",
       "      <td>6</td>\n",
       "      <td>1</td>\n",
       "    </tr>\n",
       "    <tr>\n",
       "      <th>2</th>\n",
       "      <td>10</td>\n",
       "      <td>137</td>\n",
       "      <td>1</td>\n",
       "    </tr>\n",
       "    <tr>\n",
       "      <th>3</th>\n",
       "      <td>100</td>\n",
       "      <td>7</td>\n",
       "      <td>1</td>\n",
       "    </tr>\n",
       "    <tr>\n",
       "      <th>4</th>\n",
       "      <td>1000</td>\n",
       "      <td>33</td>\n",
       "      <td>1</td>\n",
       "    </tr>\n",
       "  </tbody>\n",
       "</table>\n",
       "</div>"
      ],
      "text/plain": [
       "   user  hike_id  rating\n",
       "0     1       43       1\n",
       "1     1        6       1\n",
       "2    10      137       1\n",
       "3   100        7       1\n",
       "4  1000       33       1"
      ]
     },
     "execution_count": 30,
     "metadata": {},
     "output_type": "execute_result"
    }
   ],
   "source": [
    "# Data\n",
    "data = 'https://raw.githubusercontent.com/oschow/take-a-hike/master/AllTrails/data/all_ratings_matrix.csv'\n",
    "df = pd.read_csv(data)\n",
    "df.columns = ['hike_id', 'user', 'rating']\n",
    "df = df[['user', 'hike_id', 'rating']]\n",
    "\n",
    "# Remove string\n",
    "df['hike_id'] = df.hike_id.str.strip('hike')\n",
    "df['user'] = df.user.str.strip('user')\n",
    "\n",
    "# Convert to int\n",
    "df['hike_id'] = pd.to_numeric(df.hike_id, errors='coerce')\n",
    "df['user'] = pd.to_numeric(df.user, errors='coerce')\n",
    "df.set_index('user')\n",
    "\n",
    "# Convert ratings to 1 and 0\n",
    "df.rating = df['rating'].apply(lambda x: 1 if x > 3 else 0)\n",
    "df.head()"
   ]
  },
  {
   "cell_type": "markdown",
   "metadata": {},
   "source": [
    "# Hike features"
   ]
  },
  {
   "cell_type": "code",
   "execution_count": 31,
   "metadata": {},
   "outputs": [
    {
     "data": {
      "text/html": [
       "<div>\n",
       "<style scoped>\n",
       "    .dataframe tbody tr th:only-of-type {\n",
       "        vertical-align: middle;\n",
       "    }\n",
       "\n",
       "    .dataframe tbody tr th {\n",
       "        vertical-align: top;\n",
       "    }\n",
       "\n",
       "    .dataframe thead th {\n",
       "        text-align: right;\n",
       "    }\n",
       "</style>\n",
       "<table border=\"1\" class=\"dataframe\">\n",
       "  <thead>\n",
       "    <tr style=\"text-align: right;\">\n",
       "      <th></th>\n",
       "      <th>hike_id</th>\n",
       "      <th>hike_name</th>\n",
       "      <th>hike_region</th>\n",
       "      <th>total_distance</th>\n",
       "      <th>elevation_gain</th>\n",
       "      <th>hike_difficulty</th>\n",
       "    </tr>\n",
       "  </thead>\n",
       "  <tbody>\n",
       "    <tr>\n",
       "      <th>1482</th>\n",
       "      <td>1482</td>\n",
       "      <td>Foothills Nature Trail to CCC Shelter</td>\n",
       "      <td>Roosevelt National Forest</td>\n",
       "      <td>2.0</td>\n",
       "      <td>498</td>\n",
       "      <td>1</td>\n",
       "    </tr>\n",
       "    <tr>\n",
       "      <th>1483</th>\n",
       "      <td>1483</td>\n",
       "      <td>Sinton Trail</td>\n",
       "      <td>Roswell, Colorado</td>\n",
       "      <td>5.6</td>\n",
       "      <td>374</td>\n",
       "      <td>1</td>\n",
       "    </tr>\n",
       "    <tr>\n",
       "      <th>1484</th>\n",
       "      <td>1484</td>\n",
       "      <td>Uncompahgre River Walk</td>\n",
       "      <td>Montrose, Colorado</td>\n",
       "      <td>14.4</td>\n",
       "      <td>411</td>\n",
       "      <td>1</td>\n",
       "    </tr>\n",
       "    <tr>\n",
       "      <th>1485</th>\n",
       "      <td>1485</td>\n",
       "      <td>Mayhoffer Trail Loop</td>\n",
       "      <td>Superior, Colorado</td>\n",
       "      <td>10.8</td>\n",
       "      <td>872</td>\n",
       "      <td>1</td>\n",
       "    </tr>\n",
       "    <tr>\n",
       "      <th>1486</th>\n",
       "      <td>1486</td>\n",
       "      <td>River Ponds Trail Loop trail</td>\n",
       "      <td>Fort Collins, Colorado</td>\n",
       "      <td>2.0</td>\n",
       "      <td>14</td>\n",
       "      <td>1</td>\n",
       "    </tr>\n",
       "  </tbody>\n",
       "</table>\n",
       "</div>"
      ],
      "text/plain": [
       "      hike_id                              hike_name  \\\n",
       "1482     1482  Foothills Nature Trail to CCC Shelter   \n",
       "1483     1483                           Sinton Trail   \n",
       "1484     1484                 Uncompahgre River Walk   \n",
       "1485     1485                   Mayhoffer Trail Loop   \n",
       "1486     1486           River Ponds Trail Loop trail   \n",
       "\n",
       "                    hike_region  total_distance  elevation_gain  \\\n",
       "1482  Roosevelt National Forest             2.0             498   \n",
       "1483          Roswell, Colorado             5.6             374   \n",
       "1484         Montrose, Colorado            14.4             411   \n",
       "1485         Superior, Colorado            10.8             872   \n",
       "1486     Fort Collins, Colorado             2.0              14   \n",
       "\n",
       "      hike_difficulty  \n",
       "1482                1  \n",
       "1483                1  \n",
       "1484                1  \n",
       "1485                1  \n",
       "1486                1  "
      ]
     },
     "execution_count": 31,
     "metadata": {},
     "output_type": "execute_result"
    }
   ],
   "source": [
    "# Features\n",
    "data_features = 'https://raw.githubusercontent.com/oschow/take-a-hike/master/AllTrails/data/all_hikes_with_hike_name.csv'\n",
    "df_features = pd.read_csv(data_features)\n",
    "df_features = df_features[['hike_id', 'hike_name', 'hike_region', 'total_distance', 'elevation_gain', 'hike_difficulty']]\n",
    "\n",
    "# Remove string\n",
    "df_features['hike_id'] = df_features.hike_id.str.strip('hike')\n",
    "# Convert to int\n",
    "df_features['hike_id'] = pd.to_numeric(df_features.hike_id, errors='coerce')\n",
    "\n",
    "df_features.tail()"
   ]
  },
  {
   "cell_type": "code",
   "execution_count": 32,
   "metadata": {},
   "outputs": [
    {
     "data": {
      "text/html": [
       "<div>\n",
       "<style scoped>\n",
       "    .dataframe tbody tr th:only-of-type {\n",
       "        vertical-align: middle;\n",
       "    }\n",
       "\n",
       "    .dataframe tbody tr th {\n",
       "        vertical-align: top;\n",
       "    }\n",
       "\n",
       "    .dataframe thead th {\n",
       "        text-align: right;\n",
       "    }\n",
       "</style>\n",
       "<table border=\"1\" class=\"dataframe\">\n",
       "  <thead>\n",
       "    <tr style=\"text-align: right;\">\n",
       "      <th></th>\n",
       "      <th>hike_id</th>\n",
       "      <th>hike_name</th>\n",
       "      <th>hike_region</th>\n",
       "    </tr>\n",
       "  </thead>\n",
       "  <tbody>\n",
       "    <tr>\n",
       "      <th>0</th>\n",
       "      <td>0</td>\n",
       "      <td>Maxwell Falls Lower Trail</td>\n",
       "      <td>Arapaho National Forest</td>\n",
       "    </tr>\n",
       "    <tr>\n",
       "      <th>1</th>\n",
       "      <td>1</td>\n",
       "      <td>Royal Arch Trail</td>\n",
       "      <td>Chautauqua Park</td>\n",
       "    </tr>\n",
       "    <tr>\n",
       "      <th>2</th>\n",
       "      <td>2</td>\n",
       "      <td>Beaver Brook /Chavez Trail Loop</td>\n",
       "      <td>Genesee Park</td>\n",
       "    </tr>\n",
       "    <tr>\n",
       "      <th>3</th>\n",
       "      <td>3</td>\n",
       "      <td>The Incline Trail</td>\n",
       "      <td>Manitou Park Recreation Area</td>\n",
       "    </tr>\n",
       "    <tr>\n",
       "      <th>4</th>\n",
       "      <td>4</td>\n",
       "      <td>Emerald Lake Trail</td>\n",
       "      <td>Rocky Mountain National Park</td>\n",
       "    </tr>\n",
       "    <tr>\n",
       "      <th>...</th>\n",
       "      <td>...</td>\n",
       "      <td>...</td>\n",
       "      <td>...</td>\n",
       "    </tr>\n",
       "    <tr>\n",
       "      <th>1482</th>\n",
       "      <td>1482</td>\n",
       "      <td>Foothills Nature Trail to CCC Shelter</td>\n",
       "      <td>Roosevelt National Forest</td>\n",
       "    </tr>\n",
       "    <tr>\n",
       "      <th>1483</th>\n",
       "      <td>1483</td>\n",
       "      <td>Sinton Trail</td>\n",
       "      <td>Roswell, Colorado</td>\n",
       "    </tr>\n",
       "    <tr>\n",
       "      <th>1484</th>\n",
       "      <td>1484</td>\n",
       "      <td>Uncompahgre River Walk</td>\n",
       "      <td>Montrose, Colorado</td>\n",
       "    </tr>\n",
       "    <tr>\n",
       "      <th>1485</th>\n",
       "      <td>1485</td>\n",
       "      <td>Mayhoffer Trail Loop</td>\n",
       "      <td>Superior, Colorado</td>\n",
       "    </tr>\n",
       "    <tr>\n",
       "      <th>1486</th>\n",
       "      <td>1486</td>\n",
       "      <td>River Ponds Trail Loop trail</td>\n",
       "      <td>Fort Collins, Colorado</td>\n",
       "    </tr>\n",
       "  </tbody>\n",
       "</table>\n",
       "<p>1487 rows × 3 columns</p>\n",
       "</div>"
      ],
      "text/plain": [
       "      hike_id                              hike_name  \\\n",
       "0           0              Maxwell Falls Lower Trail   \n",
       "1           1                       Royal Arch Trail   \n",
       "2           2        Beaver Brook /Chavez Trail Loop   \n",
       "3           3                      The Incline Trail   \n",
       "4           4                     Emerald Lake Trail   \n",
       "...       ...                                    ...   \n",
       "1482     1482  Foothills Nature Trail to CCC Shelter   \n",
       "1483     1483                           Sinton Trail   \n",
       "1484     1484                 Uncompahgre River Walk   \n",
       "1485     1485                   Mayhoffer Trail Loop   \n",
       "1486     1486           River Ponds Trail Loop trail   \n",
       "\n",
       "                       hike_region  \n",
       "0          Arapaho National Forest  \n",
       "1                  Chautauqua Park  \n",
       "2                     Genesee Park  \n",
       "3     Manitou Park Recreation Area  \n",
       "4     Rocky Mountain National Park  \n",
       "...                            ...  \n",
       "1482     Roosevelt National Forest  \n",
       "1483             Roswell, Colorado  \n",
       "1484            Montrose, Colorado  \n",
       "1485            Superior, Colorado  \n",
       "1486        Fort Collins, Colorado  \n",
       "\n",
       "[1487 rows x 3 columns]"
      ]
     },
     "execution_count": 32,
     "metadata": {},
     "output_type": "execute_result"
    }
   ],
   "source": [
    "df_features.iloc[:, :3]"
   ]
  },
  {
   "cell_type": "code",
   "execution_count": 33,
   "metadata": {},
   "outputs": [],
   "source": [
    "features = []\n",
    "col = ['hike_name']*len(df_features['hike_name'].unique()) + ['hike_region']*len(df_features['hike_region'].unique()) + ['total_distance']*len(df_features['total_distance'].unique()) + ['hike_difficulty']*len(df_features['hike_difficulty'].unique())\n",
    "\n",
    "unique_f1 = list(df_features['hike_name'].unique()) + list(df_features['hike_region'].unique()) + list(df_features['total_distance'].unique()) + list(df_features['hike_difficulty'].unique())\n",
    "\n",
    "for x,y in zip(col, unique_f1):\n",
    "    res = str(x)+ \":\" +str(y)\n",
    "    features.append(res)"
   ]
  },
  {
   "cell_type": "markdown",
   "metadata": {},
   "source": [
    "## Merge dataframes"
   ]
  },
  {
   "cell_type": "code",
   "execution_count": 34,
   "metadata": {},
   "outputs": [
    {
     "data": {
      "text/html": [
       "<div>\n",
       "<style scoped>\n",
       "    .dataframe tbody tr th:only-of-type {\n",
       "        vertical-align: middle;\n",
       "    }\n",
       "\n",
       "    .dataframe tbody tr th {\n",
       "        vertical-align: top;\n",
       "    }\n",
       "\n",
       "    .dataframe thead th {\n",
       "        text-align: right;\n",
       "    }\n",
       "</style>\n",
       "<table border=\"1\" class=\"dataframe\">\n",
       "  <thead>\n",
       "    <tr style=\"text-align: right;\">\n",
       "      <th></th>\n",
       "      <th>user</th>\n",
       "      <th>hike_id</th>\n",
       "      <th>rating</th>\n",
       "      <th>hike_name</th>\n",
       "      <th>hike_region</th>\n",
       "      <th>total_distance</th>\n",
       "      <th>elevation_gain</th>\n",
       "      <th>hike_difficulty</th>\n",
       "    </tr>\n",
       "  </thead>\n",
       "  <tbody>\n",
       "    <tr>\n",
       "      <th>0</th>\n",
       "      <td>1</td>\n",
       "      <td>43</td>\n",
       "      <td>1</td>\n",
       "      <td>Spruce Mountain Trail</td>\n",
       "      <td>Pike National Forest</td>\n",
       "      <td>5.5</td>\n",
       "      <td>732</td>\n",
       "      <td>2</td>\n",
       "    </tr>\n",
       "    <tr>\n",
       "      <th>1</th>\n",
       "      <td>1</td>\n",
       "      <td>6</td>\n",
       "      <td>1</td>\n",
       "      <td>Mount Falcon Castle Trail</td>\n",
       "      <td>Mount Falcon Park</td>\n",
       "      <td>7.9</td>\n",
       "      <td>1836</td>\n",
       "      <td>2</td>\n",
       "    </tr>\n",
       "    <tr>\n",
       "      <th>2</th>\n",
       "      <td>10</td>\n",
       "      <td>137</td>\n",
       "      <td>1</td>\n",
       "      <td>Rainbow Gulch</td>\n",
       "      <td>Pike National Forest</td>\n",
       "      <td>2.6</td>\n",
       "      <td>267</td>\n",
       "      <td>1</td>\n",
       "    </tr>\n",
       "    <tr>\n",
       "      <th>3</th>\n",
       "      <td>100</td>\n",
       "      <td>7</td>\n",
       "      <td>1</td>\n",
       "      <td>Mount Sanitas Trail</td>\n",
       "      <td>Boulder Mountain Park</td>\n",
       "      <td>3.3</td>\n",
       "      <td>1354</td>\n",
       "      <td>2</td>\n",
       "    </tr>\n",
       "    <tr>\n",
       "      <th>4</th>\n",
       "      <td>1000</td>\n",
       "      <td>33</td>\n",
       "      <td>1</td>\n",
       "      <td>Barr Trail to Pikes Peak</td>\n",
       "      <td>Pike National Forest</td>\n",
       "      <td>23.0</td>\n",
       "      <td>7508</td>\n",
       "      <td>3</td>\n",
       "    </tr>\n",
       "  </tbody>\n",
       "</table>\n",
       "</div>"
      ],
      "text/plain": [
       "   user  hike_id  rating                  hike_name            hike_region  \\\n",
       "0     1       43       1      Spruce Mountain Trail   Pike National Forest   \n",
       "1     1        6       1  Mount Falcon Castle Trail      Mount Falcon Park   \n",
       "2    10      137       1              Rainbow Gulch   Pike National Forest   \n",
       "3   100        7       1        Mount Sanitas Trail  Boulder Mountain Park   \n",
       "4  1000       33       1   Barr Trail to Pikes Peak   Pike National Forest   \n",
       "\n",
       "   total_distance  elevation_gain  hike_difficulty  \n",
       "0             5.5             732                2  \n",
       "1             7.9            1836                2  \n",
       "2             2.6             267                1  \n",
       "3             3.3            1354                2  \n",
       "4            23.0            7508                3  "
      ]
     },
     "execution_count": 34,
     "metadata": {},
     "output_type": "execute_result"
    }
   ],
   "source": [
    "# Merge dataframes\n",
    "df_features = pd.merge(df, df_features, on='hike_id', how='left')\n",
    "df_features = df_features.drop_duplicates()\n",
    "df_features.head()\n"
   ]
  },
  {
   "cell_type": "code",
   "execution_count": 35,
   "metadata": {},
   "outputs": [
    {
     "data": {
      "text/html": [
       "<div>\n",
       "<style scoped>\n",
       "    .dataframe tbody tr th:only-of-type {\n",
       "        vertical-align: middle;\n",
       "    }\n",
       "\n",
       "    .dataframe tbody tr th {\n",
       "        vertical-align: top;\n",
       "    }\n",
       "\n",
       "    .dataframe thead th {\n",
       "        text-align: right;\n",
       "    }\n",
       "</style>\n",
       "<table border=\"1\" class=\"dataframe\">\n",
       "  <thead>\n",
       "    <tr style=\"text-align: right;\">\n",
       "      <th></th>\n",
       "      <th>hike_id</th>\n",
       "      <th>hike_name</th>\n",
       "      <th>hike_region</th>\n",
       "      <th>total_distance</th>\n",
       "      <th>hike_difficulty</th>\n",
       "    </tr>\n",
       "  </thead>\n",
       "  <tbody>\n",
       "    <tr>\n",
       "      <th>0</th>\n",
       "      <td>0</td>\n",
       "      <td>Maxwell Falls Lower Trail</td>\n",
       "      <td>Arapaho National Forest</td>\n",
       "      <td>4.2</td>\n",
       "      <td>2</td>\n",
       "    </tr>\n",
       "    <tr>\n",
       "      <th>1</th>\n",
       "      <td>1</td>\n",
       "      <td>Royal Arch Trail</td>\n",
       "      <td>Chautauqua Park</td>\n",
       "      <td>3.4</td>\n",
       "      <td>3</td>\n",
       "    </tr>\n",
       "    <tr>\n",
       "      <th>2</th>\n",
       "      <td>2</td>\n",
       "      <td>Beaver Brook /Chavez Trail Loop</td>\n",
       "      <td>Genesee Park</td>\n",
       "      <td>3.9</td>\n",
       "      <td>2</td>\n",
       "    </tr>\n",
       "    <tr>\n",
       "      <th>3</th>\n",
       "      <td>3</td>\n",
       "      <td>The Incline Trail</td>\n",
       "      <td>Manitou Park Recreation Area</td>\n",
       "      <td>3.6</td>\n",
       "      <td>3</td>\n",
       "    </tr>\n",
       "    <tr>\n",
       "      <th>4</th>\n",
       "      <td>4</td>\n",
       "      <td>Emerald Lake Trail</td>\n",
       "      <td>Rocky Mountain National Park</td>\n",
       "      <td>3.3</td>\n",
       "      <td>1</td>\n",
       "    </tr>\n",
       "  </tbody>\n",
       "</table>\n",
       "</div>"
      ],
      "text/plain": [
       "   hike_id                        hike_name                   hike_region  \\\n",
       "0        0        Maxwell Falls Lower Trail       Arapaho National Forest   \n",
       "1        1                 Royal Arch Trail               Chautauqua Park   \n",
       "2        2  Beaver Brook /Chavez Trail Loop                  Genesee Park   \n",
       "3        3                The Incline Trail  Manitou Park Recreation Area   \n",
       "4        4               Emerald Lake Trail  Rocky Mountain National Park   \n",
       "\n",
       "   total_distance  hike_difficulty  \n",
       "0             4.2                2  \n",
       "1             3.4                3  \n",
       "2             3.9                2  \n",
       "3             3.6                3  \n",
       "4             3.3                1  "
      ]
     },
     "execution_count": 35,
     "metadata": {},
     "output_type": "execute_result"
    }
   ],
   "source": [
    "df_features = df_features.drop(['user', 'rating', 'elevation_gain'], axis=1)\n",
    "df_features = df_features.sort_values(by='hike_id')\n",
    "df_features = df_features.reset_index(drop=True)\n",
    "df_features = df_features.drop_duplicates()\n",
    "df_features = df_features.reset_index(drop=True)\n",
    "df_features = df_features.sort_values(by='hike_id')\n",
    "df_features.head()"
   ]
  },
  {
   "cell_type": "markdown",
   "metadata": {},
   "source": [
    "# Add external dataset"
   ]
  },
  {
   "cell_type": "code",
   "execution_count": 36,
   "metadata": {},
   "outputs": [
    {
     "name": "stdout",
     "output_type": "stream",
     "text": [
      "Num users: 11891, num_items 1487.\n"
     ]
    }
   ],
   "source": [
    "from lightfm.data import Dataset\n",
    "dataset1 = Dataset()\n",
    "\n",
    "# we call fit to supply userid, item id and user/item features\n",
    "dataset1.fit(\n",
    "        df['user'].unique(), \n",
    "        df['hike_id'].unique(),\n",
    "        item_features = features )\n",
    "\n",
    "num_users, num_items = dataset1.interactions_shape()\n",
    "print('Num users: {}, num_items {}.'.format(num_users, num_items))"
   ]
  },
  {
   "cell_type": "markdown",
   "metadata": {},
   "source": [
    "# Interactions matrix\n",
    "- **Interactions matrix** tell us if at all the user interacted with an item\n",
    "- **Weights matrix** quantifies that particular interaction"
   ]
  },
  {
   "cell_type": "code",
   "execution_count": 37,
   "metadata": {},
   "outputs": [],
   "source": [
    "# Plugging in the interactions and their weights\n",
    "(interactions, weights) = dataset1.build_interactions([(x[0], x[1], x[2]) for x in df.values ])"
   ]
  },
  {
   "cell_type": "markdown",
   "metadata": {},
   "source": [
    "- Users = Rows\n",
    "- Items = Columns"
   ]
  },
  {
   "cell_type": "code",
   "execution_count": 38,
   "metadata": {},
   "outputs": [
    {
     "data": {
      "text/plain": [
       "matrix([[1, 1, 0, ..., 0, 0, 0],\n",
       "        [0, 0, 1, ..., 0, 0, 0],\n",
       "        [0, 0, 0, ..., 0, 0, 0],\n",
       "        ...,\n",
       "        [0, 0, 0, ..., 0, 0, 0],\n",
       "        [0, 0, 0, ..., 0, 0, 0],\n",
       "        [0, 0, 0, ..., 0, 0, 0]])"
      ]
     },
     "execution_count": 38,
     "metadata": {},
     "output_type": "execute_result"
    }
   ],
   "source": [
    "interactions.todense()"
   ]
  },
  {
   "cell_type": "code",
   "execution_count": 39,
   "metadata": {},
   "outputs": [
    {
     "data": {
      "text/plain": [
       "matrix([[1., 1., 0., ..., 0., 0., 0.],\n",
       "        [0., 0., 1., ..., 0., 0., 0.],\n",
       "        [0., 0., 0., ..., 0., 0., 0.],\n",
       "        ...,\n",
       "        [0., 0., 0., ..., 0., 0., 0.],\n",
       "        [0., 0., 0., ..., 0., 0., 0.],\n",
       "        [0., 0., 0., ..., 0., 0., 0.]], dtype=float32)"
      ]
     },
     "execution_count": 39,
     "metadata": {},
     "output_type": "execute_result"
    }
   ],
   "source": [
    "weights.todense()"
   ]
  },
  {
   "cell_type": "markdown",
   "metadata": {},
   "source": [
    "# Build item features"
   ]
  },
  {
   "cell_type": "code",
   "execution_count": 40,
   "metadata": {},
   "outputs": [],
   "source": [
    "# Helper function that takes the item features and converts them into the proper \"feature:value\" format\n",
    "def feature_colon_value(my_list):\n",
    "    result = []\n",
    "    ll = ['hike_name:','hike_region:', 'total_distance:', 'hike_difficulty:']\n",
    "    aa = my_list\n",
    "    for x,y in zip(ll,aa):\n",
    "        res = str(x) +\"\"+ str(y)\n",
    "        result.append(res)\n",
    "    return result\n",
    "\n",
    "# Using the helper function to generate user features in proper format for ALL users\n",
    "\n",
    "ad_subset = df_features[['hike_name','hike_region', 'total_distance', 'hike_difficulty']] \n",
    "ad_list = [list(x) for x in ad_subset.values]\n",
    "feature_list = []\n",
    "for item in ad_list:\n",
    "    feature_list.append(feature_colon_value(item))\n",
    "#print(f'Final output: {feature_list}')"
   ]
  },
  {
   "cell_type": "code",
   "execution_count": 41,
   "metadata": {},
   "outputs": [
    {
     "data": {
      "text/plain": [
       "[(0,\n",
       "  ['hike_name:Maxwell Falls Lower Trail',\n",
       "   'hike_region:Arapaho National Forest',\n",
       "   'total_distance:4.2',\n",
       "   'hike_difficulty:2']),\n",
       " (1,\n",
       "  ['hike_name:Royal Arch Trail',\n",
       "   'hike_region:Chautauqua Park',\n",
       "   'total_distance:3.4',\n",
       "   'hike_difficulty:3']),\n",
       " (2,\n",
       "  ['hike_name:Beaver Brook /Chavez Trail Loop',\n",
       "   'hike_region:Genesee Park',\n",
       "   'total_distance:3.9',\n",
       "   'hike_difficulty:2'])]"
      ]
     },
     "execution_count": 41,
     "metadata": {},
     "output_type": "execute_result"
    }
   ],
   "source": [
    "item_tuple = list(zip(df_features['hike_id'], feature_list))\n",
    "\n",
    "item_tuple[:3]"
   ]
  },
  {
   "cell_type": "code",
   "execution_count": 42,
   "metadata": {},
   "outputs": [
    {
     "name": "stdout",
     "output_type": "stream",
     "text": [
      "<1487x3530 sparse matrix of type '<class 'numpy.float32'>'\n",
      "\twith 7435 stored elements in Compressed Sparse Row format>\n"
     ]
    }
   ],
   "source": [
    "item_features = dataset1.build_item_features(item_tuple)\n",
    "\n",
    "print(repr(item_features))"
   ]
  },
  {
   "cell_type": "markdown",
   "metadata": {},
   "source": [
    "# Cross validation"
   ]
  },
  {
   "cell_type": "code",
   "execution_count": 43,
   "metadata": {},
   "outputs": [],
   "source": [
    "from lightfm.cross_validation import random_train_test_split\n",
    "(train, test) = random_train_test_split(interactions=interactions, test_percentage=0.2)"
   ]
  },
  {
   "cell_type": "markdown",
   "metadata": {},
   "source": [
    "# Build model"
   ]
  },
  {
   "cell_type": "code",
   "execution_count": 44,
   "metadata": {},
   "outputs": [
    {
     "data": {
      "text/plain": [
       "<lightfm.lightfm.LightFM at 0x1f629d3e370>"
      ]
     },
     "execution_count": 44,
     "metadata": {},
     "output_type": "execute_result"
    }
   ],
   "source": [
    "model = LightFM(loss='warp')\n",
    "model.fit(train,\n",
    "      item_features= item_features,\n",
    "      epochs=10)"
   ]
  },
  {
   "cell_type": "markdown",
   "metadata": {},
   "source": [
    "# Loss functions\n",
    "A loss function is a measure of how good a prediction model does in terms of being able to predict the expected outcome.\n",
    "\n",
    "### WARP  (Weighted Approximate-Rank Pairwise)\n",
    "Maximises the rank of positive examples by repeatedly sampling negative examples until rank violating one is found\n",
    "\n",
    "### BPR (Bayesian Personalised Ranking)\n",
    "BPR: Bayesian Personalised Ranking pairwise loss: It maximizes the prediction difference between a positive example and a randomly chosen negative example. Useful when only positive interactions are present."
   ]
  },
  {
   "cell_type": "markdown",
   "metadata": {},
   "source": [
    "# Model evaluation\n",
    "Documentation [here](https://making.lyst.com/lightfm/docs/lightfm.evaluation.html)"
   ]
  },
  {
   "cell_type": "markdown",
   "metadata": {},
   "source": [
    "### Precision at k metric\n",
    "Measure the precision at k metric for a model: the fraction of known positives in the first k positions of the ranked list of results. "
   ]
  },
  {
   "cell_type": "code",
   "execution_count": 45,
   "metadata": {},
   "outputs": [
    {
     "name": "stdout",
     "output_type": "stream",
     "text": [
      "Precision: train 0.07, test 0.02.\n"
     ]
    }
   ],
   "source": [
    "from lightfm.evaluation import precision_at_k\n",
    "train_precision = precision_at_k(model, train,item_features=item_features, k=10).mean()\n",
    "test_precision = precision_at_k(model, test, item_features=item_features,k=10).mean()\n",
    "print('Precision: train %.2f, test %.2f.' % (train_precision, test_precision))"
   ]
  },
  {
   "cell_type": "markdown",
   "metadata": {},
   "source": [
    "### AUC\n",
    "Measure the ROC AUC metric for a model: the probability that a randomly chosen positive example has a higher score than a randomly chosen negative example. A perfect score is 1.0."
   ]
  },
  {
   "cell_type": "code",
   "execution_count": 46,
   "metadata": {},
   "outputs": [
    {
     "name": "stdout",
     "output_type": "stream",
     "text": [
      "Hybrid training set AUC: 0.9583463\n",
      "Hybrid test set AUC: 0.81658816\n"
     ]
    }
   ],
   "source": [
    "from lightfm.evaluation import auc_score\n",
    "\n",
    "# Train\n",
    "train_auc = auc_score(model,\n",
    "                      train,\n",
    "                      item_features= item_features\n",
    "                     ).mean()\n",
    "print('Hybrid training set AUC: %s' % train_auc)\n",
    "\n",
    "# Test\n",
    "test_auc = auc_score(model,\n",
    "                      test,\n",
    "                      item_features= item_features\n",
    "                     ).mean()\n",
    "print('Hybrid test set AUC: %s' % test_auc)"
   ]
  },
  {
   "cell_type": "markdown",
   "metadata": {},
   "source": [
    "# Generate recommendations"
   ]
  },
  {
   "cell_type": "code",
   "execution_count": 47,
   "metadata": {},
   "outputs": [
    {
     "data": {
      "text/plain": [
       "(10, [4, 0, 654, 8, 462, 35, 3, 374, 976, 6])"
      ]
     },
     "execution_count": 47,
     "metadata": {},
     "output_type": "execute_result"
    }
   ],
   "source": [
    "def sample_recommendation(model, data, user_ids):\n",
    "\n",
    "    n_users, n_items = interactions.shape\n",
    "\n",
    "    for user_id in user_ids:\n",
    "        known_positives = df['hike_id'][df.user ==user_id]\n",
    "        list_known = []\n",
    "\n",
    "        for i in known_positives:\n",
    "          list_known.append(i)\n",
    "\n",
    "        scores = model.predict(user_id, np.arange(n_items))\n",
    "        top_items = data['hike_id'][np.argsort(-scores)]\n",
    "\n",
    "        #print(\"User %s\" % user_id)\n",
    "        #print(\"     Known positives:\")\n",
    "\n",
    "        #for x in known_positives[:]:\n",
    "            #print(\"        %s\" % x)\n",
    "\n",
    "        recommendations = []\n",
    "        #print(\"     Recommended:\")\n",
    "        for x in top_items[:10]:\n",
    "          if x not in list_known:\n",
    "            recommendations.append(x)\n",
    "            #print(\"        %s\" % x)\n",
    "        return user_id, recommendations\n",
    "        \n",
    "        #print('\\n')\n",
    "\n",
    "sample_recommendation(model, df, [10])"
   ]
  },
  {
   "cell_type": "markdown",
   "metadata": {},
   "source": [
    "# Match recommendations with hike trail names"
   ]
  },
  {
   "cell_type": "code",
   "execution_count": 48,
   "metadata": {},
   "outputs": [
    {
     "name": "stdout",
     "output_type": "stream",
     "text": [
      "Recommendations for user 1:\n",
      "1 Lake Loop and Nature Trails\n",
      "2 Well Gulch Natural Trail\n",
      "3 Mohawk Lakes Trail\n",
      "\n",
      "\n",
      "Recommendations for user 5:\n",
      "1 Meadowlark Plymouth Creek Loop Trail\n",
      "2 Red Hill/Mushroom Rock trail\n",
      "3 Lost Lake Trail\n",
      "\n",
      "\n",
      "Recommendations for user 12:\n",
      "1 Emerald Lake Trail\n",
      "2 Maxwell Falls Lower Trail\n",
      "3 Red Hill/Mushroom Rock trail\n",
      "\n",
      "\n",
      "Recommendations for user 5:\n",
      "1 Meadowlark Plymouth Creek Loop Trail\n",
      "2 Red Hill/Mushroom Rock trail\n",
      "3 Lost Lake Trail\n",
      "\n",
      "\n",
      "Recommendations for user 66:\n",
      "1 Maxwell Falls Lower Trail\n",
      "2 Lake Loop and Nature Trails\n",
      "3 Pass Creek Trail\n",
      "\n",
      "\n"
     ]
    }
   ],
   "source": [
    "users = [1, 5, 12, 5, 66]\n",
    "dataframe = pd.DataFrame([])\n",
    "#users = df['user'].values.tolist()\n",
    "count = 1\n",
    "for i in users:\n",
    "  user = sample_recommendation(model, df, [i])\n",
    "  recommendations = user[1]\n",
    "  recommendations = recommendations[:3]\n",
    "  print(f'Recommendations for user {user[0]}:')\n",
    "  for r in recommendations:\n",
    "    hike_name = df_features['hike_name'][df_features['hike_id'] == r].values[0]\n",
    "    dataframe = dataframe.append(pd.DataFrame({'User': user[0], 'Recommended items': hike_name}, index=[i]), ignore_index=True)\n",
    "    print(count, hike_name)\n",
    "    count+=1\n",
    "  count = 1\n",
    "  print('\\n')"
   ]
  },
  {
   "cell_type": "code",
   "execution_count": null,
   "metadata": {},
   "outputs": [],
   "source": []
  },
  {
   "cell_type": "code",
   "execution_count": null,
   "metadata": {},
   "outputs": [],
   "source": []
  },
  {
   "cell_type": "code",
   "execution_count": null,
   "metadata": {},
   "outputs": [],
   "source": []
  },
  {
   "cell_type": "code",
   "execution_count": null,
   "metadata": {},
   "outputs": [],
   "source": []
  }
 ],
 "metadata": {
  "kernelspec": {
   "display_name": "Python 3",
   "language": "python",
   "name": "python3"
  },
  "language_info": {
   "codemirror_mode": {
    "name": "ipython",
    "version": 3
   },
   "file_extension": ".py",
   "mimetype": "text/x-python",
   "name": "python",
   "nbconvert_exporter": "python",
   "pygments_lexer": "ipython3",
   "version": "3.8.5"
  }
 },
 "nbformat": 4,
 "nbformat_minor": 4
}
